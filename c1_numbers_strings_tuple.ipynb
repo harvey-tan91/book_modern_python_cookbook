{
 "metadata": {
  "language_info": {
   "codemirror_mode": {
    "name": "ipython",
    "version": 3
   },
   "file_extension": ".py",
   "mimetype": "text/x-python",
   "name": "python",
   "nbconvert_exporter": "python",
   "pygments_lexer": "ipython3",
   "version": "3.9.0-final"
  },
  "orig_nbformat": 2,
  "kernelspec": {
   "name": "python3",
   "display_name": "Python 3.9.0 64-bit",
   "metadata": {
    "interpreter": {
     "hash": "07d83d57e269238847aeacdff1b4a850814602dc41b52cdeecd9da82945a9b04"
    }
   }
  }
 },
 "nbformat": 4,
 "nbformat_minor": 2,
 "cells": [
  {
   "source": [
    "# Large and Small Integer\n",
    "\n",
    "* Python has two representations for numbers\n",
    "* Large integer value and small integer value"
   ],
   "cell_type": "markdown",
   "metadata": {}
  },
  {
   "cell_type": "code",
   "execution_count": 1,
   "metadata": {},
   "outputs": [],
   "source": [
    "import sys\n",
    "import math"
   ]
  },
  {
   "cell_type": "code",
   "execution_count": 2,
   "metadata": {},
   "outputs": [
    {
     "output_type": "execute_result",
     "data": {
      "text/plain": [
       "9223372036854775807"
      ]
     },
     "metadata": {},
     "execution_count": 2
    }
   ],
   "source": [
    "sys.maxsize # this value is the largest of the small integer values"
   ]
  },
  {
   "cell_type": "code",
   "execution_count": 3,
   "metadata": {},
   "outputs": [
    {
     "output_type": "execute_result",
     "data": {
      "text/plain": [
       "63.0"
      ]
     },
     "metadata": {},
     "execution_count": 3
    }
   ],
   "source": [
    "math.log(sys.maxsize, 2) # this give us the many of bits require for the max small integer value"
   ]
  },
  {
   "cell_type": "code",
   "execution_count": 4,
   "metadata": {},
   "outputs": [
    {
     "output_type": "execute_result",
     "data": {
      "text/plain": [
       "sys.int_info(bits_per_digit=30, sizeof_digit=4)"
      ]
     },
     "metadata": {},
     "execution_count": 4
    }
   ],
   "source": [
    "sys.int_info\n",
    "# this tells is that large integer are a sequence of 30-bit digits and each of these digit occupies 4 bytes\n",
    "\n",
    "# for numbers over the sys.maxsize, Python switches to internally representing the integer numbers as sequences of Digit, in this case, it mean a 30-bit value"
   ]
  },
  {
   "source": [
    "# Currency Calculation\n",
    "\n",
    "* when working with currency and dollars, best to use the decimal module"
   ],
   "cell_type": "markdown",
   "metadata": {}
  },
  {
   "cell_type": "code",
   "execution_count": 5,
   "metadata": {},
   "outputs": [
    {
     "output_type": "execute_result",
     "data": {
      "text/plain": [
       "0.213875"
      ]
     },
     "metadata": {},
     "execution_count": 5
    }
   ],
   "source": [
    "tr = 7.25/100\n",
    "pa = 2.95\n",
    "tr * pa"
   ]
  },
  {
   "cell_type": "code",
   "execution_count": 6,
   "metadata": {},
   "outputs": [],
   "source": [
    "import decimal\n",
    "\n",
    "# we can create a decimal objs from strings or interger"
   ]
  },
  {
   "cell_type": "code",
   "execution_count": 7,
   "metadata": {},
   "outputs": [
    {
     "output_type": "execute_result",
     "data": {
      "text/plain": [
       "Decimal('0.213875')"
      ]
     },
     "metadata": {},
     "execution_count": 7
    }
   ],
   "source": [
    "tax_rate = decimal.Decimal('7.25') / decimal.Decimal(100)\n",
    "purchase_amount = decimal.Decimal('2.95')\n",
    "\n",
    "tax_amount = tax_rate * purchase_amount\n",
    "tax_amount"
   ]
  },
  {
   "cell_type": "code",
   "execution_count": 8,
   "metadata": {},
   "outputs": [
    {
     "output_type": "execute_result",
     "data": {
      "text/plain": [
       "Decimal('0.21')"
      ]
     },
     "metadata": {},
     "execution_count": 8
    }
   ],
   "source": [
    "penny = decimal.Decimal('0.01') # to create a rounding object\n",
    "tax_amount.quantize(penny)"
   ]
  },
  {
   "cell_type": "code",
   "execution_count": 9,
   "metadata": {},
   "outputs": [
    {
     "output_type": "stream",
     "name": "stdout",
     "text": [
      "3.163875\n3.16\n"
     ]
    }
   ],
   "source": [
    "total_amount = purchase_amount + tax_amount\n",
    "\n",
    "print(total_amount)\n",
    "print(total_amount.quantize(penny))"
   ]
  },
  {
   "cell_type": "code",
   "execution_count": 10,
   "metadata": {},
   "outputs": [
    {
     "output_type": "execute_result",
     "data": {
      "text/plain": [
       "Decimal('3.17')"
      ]
     },
     "metadata": {},
     "execution_count": 10
    }
   ],
   "source": [
    "total_amount.quantize(penny, decimal.ROUND_UP)"
   ]
  },
  {
   "source": [
    "# Fractions\n",
    "\n",
    "* when working with exact fraction values, best to use fractions module\n",
    "* fraction is an exact ratio of two integer value "
   ],
   "cell_type": "markdown",
   "metadata": {}
  },
  {
   "cell_type": "code",
   "execution_count": 11,
   "metadata": {},
   "outputs": [],
   "source": [
    "import fractions"
   ]
  },
  {
   "cell_type": "code",
   "execution_count": 12,
   "metadata": {},
   "outputs": [
    {
     "output_type": "execute_result",
     "data": {
      "text/plain": [
       "Fraction(25, 16)"
      ]
     },
     "metadata": {},
     "execution_count": 12
    }
   ],
   "source": [
    "sugar_cups = fractions.Fraction('2.5')\n",
    "scale_factor = fractions.Fraction(5/8)\n",
    "\n",
    "sugar_cups * scale_factor"
   ]
  },
  {
   "cell_type": "code",
   "execution_count": 13,
   "metadata": {},
   "outputs": [
    {
     "output_type": "execute_result",
     "data": {
      "text/plain": [
       "Fraction(25, 16)"
      ]
     },
     "metadata": {},
     "execution_count": 13
    }
   ],
   "source": [
    "fractions.Fraction(25/16)"
   ]
  },
  {
   "cell_type": "code",
   "execution_count": 14,
   "metadata": {},
   "outputs": [
    {
     "output_type": "execute_result",
     "data": {
      "text/plain": [
       "Fraction(103, 10)"
      ]
     },
     "metadata": {},
     "execution_count": 14
    }
   ],
   "source": [
    "fractions.Fraction('10.3')"
   ]
  },
  {
   "cell_type": "code",
   "execution_count": 15,
   "metadata": {},
   "outputs": [
    {
     "output_type": "execute_result",
     "data": {
      "text/plain": [
       "Fraction(2501999792983609, 4503599627370496)"
      ]
     },
     "metadata": {},
     "execution_count": 15
    }
   ],
   "source": [
    "# when we create fraction object from floating-point value, we may see unpleasant  representation of float approximation\n",
    "fractions.Fraction(5/9)"
   ]
  },
  {
   "cell_type": "code",
   "execution_count": 16,
   "metadata": {},
   "outputs": [
    {
     "output_type": "execute_result",
     "data": {
      "text/plain": [
       "Fraction(5, 8)"
      ]
     },
     "metadata": {},
     "execution_count": 16
    }
   ],
   "source": [
    "# when the denominator is a power of 2, -1/2, -1/4 and so on, converting from float to fraction can work out exactly\n",
    "fractions.Fraction(5/8)"
   ]
  },
  {
   "source": [
    "# Floating-Point Approximation\n",
    "\n",
    "* All floating point calculation are approximation\n",
    "* The built-in float type is as close as we can get to the mathematical abstraction of irrational numbers"
   ],
   "cell_type": "markdown",
   "metadata": {}
  },
  {
   "cell_type": "code",
   "execution_count": 17,
   "metadata": {},
   "outputs": [
    {
     "output_type": "execute_result",
     "data": {
      "text/plain": [
       "0.11764705882352941"
      ]
     },
     "metadata": {},
     "execution_count": 17
    }
   ],
   "source": [
    "2/17"
   ]
  },
  {
   "cell_type": "code",
   "execution_count": 18,
   "metadata": {},
   "outputs": [
    {
     "output_type": "execute_result",
     "data": {
      "text/plain": [
       "0.125"
      ]
     },
     "metadata": {},
     "execution_count": 18
    }
   ],
   "source": [
    "2/16 # when doing division that invovles power of 2, it can be exact as a fraction"
   ]
  },
  {
   "cell_type": "code",
   "execution_count": 19,
   "metadata": {},
   "outputs": [
    {
     "output_type": "execute_result",
     "data": {
      "text/plain": [
       "0.9999999999999999"
      ]
     },
     "metadata": {},
     "execution_count": 19
    }
   ],
   "source": [
    "x = (19/155) * (155/19)\n",
    "x"
   ]
  },
  {
   "cell_type": "code",
   "execution_count": 20,
   "metadata": {},
   "outputs": [
    {
     "output_type": "execute_result",
     "data": {
      "text/plain": [
       "1.0"
      ]
     },
     "metadata": {},
     "execution_count": 20
    }
   ],
   "source": [
    "round(x,3)"
   ]
  },
  {
   "cell_type": "code",
   "execution_count": 21,
   "metadata": {},
   "outputs": [
    {
     "output_type": "execute_result",
     "data": {
      "text/plain": [
       "1.1102230246251565e-16"
      ]
     },
     "metadata": {},
     "execution_count": 21
    }
   ],
   "source": [
    "error = 1 - x\n",
    "error\n",
    "# some times, python has clever rules that hide this error by doing some automatic rounding"
   ]
  },
  {
   "cell_type": "code",
   "execution_count": 22,
   "metadata": {},
   "outputs": [
    {
     "output_type": "execute_result",
     "data": {
      "text/plain": [
       "False"
      ]
     },
     "metadata": {},
     "execution_count": 22
    }
   ],
   "source": [
    "x == 1 # don't compare floating-point values for exact equality"
   ]
  },
  {
   "source": [
    "# Conversion"
   ],
   "cell_type": "markdown",
   "metadata": {}
  },
  {
   "cell_type": "code",
   "execution_count": 23,
   "metadata": {},
   "outputs": [
    {
     "output_type": "execute_result",
     "data": {
      "text/plain": [
       "3.163875"
      ]
     },
     "metadata": {},
     "execution_count": 23
    }
   ],
   "source": [
    "float(total_amount)"
   ]
  },
  {
   "cell_type": "code",
   "execution_count": 24,
   "metadata": {},
   "outputs": [
    {
     "output_type": "execute_result",
     "data": {
      "text/plain": [
       "1.5625"
      ]
     },
     "metadata": {},
     "execution_count": 24
    }
   ],
   "source": [
    "float(sugar_cups * scale_factor)"
   ]
  },
  {
   "cell_type": "code",
   "execution_count": 25,
   "metadata": {},
   "outputs": [
    {
     "output_type": "execute_result",
     "data": {
      "text/plain": [
       "Fraction(8832866365939553, 72057594037927936)"
      ]
     },
     "metadata": {},
     "execution_count": 25
    }
   ],
   "source": [
    "fractions.Fraction(19/155)\n",
    "# the floating value has a truncation problem\n",
    "# and when we create a fraction from that TRUNCATED floating value, it exposes the details of the truncation"
   ]
  },
  {
   "cell_type": "code",
   "execution_count": 26,
   "metadata": {},
   "outputs": [
    {
     "output_type": "execute_result",
     "data": {
      "text/plain": [
       "Decimal('0.12258064516129031640279123394066118635237216949462890625')"
      ]
     },
     "metadata": {},
     "execution_count": 26
    }
   ],
   "source": [
    "decimal.Decimal(19/155)"
   ]
  },
  {
   "cell_type": "code",
   "execution_count": 27,
   "metadata": {},
   "outputs": [],
   "source": [
    "# not all computable numbers can be represented by fractions, hence we have irrational numbers and float number is a best approximation to irrational number\n",
    "# float values are very fast on modern processors"
   ]
  },
  {
   "source": [
    "# Math module for approximation"
   ],
   "cell_type": "markdown",
   "metadata": {}
  },
  {
   "cell_type": "code",
   "execution_count": 28,
   "metadata": {},
   "outputs": [],
   "source": [
    "import math\n",
    "import cmath"
   ]
  },
  {
   "cell_type": "code",
   "execution_count": 29,
   "metadata": {},
   "outputs": [
    {
     "output_type": "execute_result",
     "data": {
      "text/plain": [
       "False"
      ]
     },
     "metadata": {},
     "execution_count": 29
    }
   ],
   "source": [
    "(19/155) * (155/19) == 1.0"
   ]
  },
  {
   "cell_type": "code",
   "execution_count": 30,
   "metadata": {},
   "outputs": [
    {
     "output_type": "execute_result",
     "data": {
      "text/plain": [
       "True"
      ]
     },
     "metadata": {},
     "execution_count": 30
    }
   ],
   "source": [
    "math.isclose( (19/155) * (155/19), 1)"
   ]
  },
  {
   "cell_type": "code",
   "execution_count": 31,
   "metadata": {},
   "outputs": [
    {
     "output_type": "stream",
     "name": "stdout",
     "text": [
      "1.9999999999999998\n1.9999999999999998\n"
     ]
    }
   ],
   "source": [
    "x1 = (19/155) * (155/19) \n",
    "x2 = (19/155) * (155/19) \n",
    "\n",
    "print(sum([x1,x2]))\n",
    "print(math.fsum([x1, x2]))"
   ]
  },
  {
   "cell_type": "code",
   "execution_count": 32,
   "metadata": {},
   "outputs": [
    {
     "output_type": "execute_result",
     "data": {
      "text/plain": [
       "(1.4142135623730951+0j)"
      ]
     },
     "metadata": {},
     "execution_count": 32
    }
   ],
   "source": [
    "cmath.sqrt(2) # a complex number has a real and imaginary part"
   ]
  },
  {
   "source": [
    "# True and Floor Division"
   ],
   "cell_type": "markdown",
   "metadata": {}
  },
  {
   "cell_type": "code",
   "execution_count": 33,
   "metadata": {},
   "outputs": [
    {
     "output_type": "stream",
     "name": "stdout",
     "text": [
      "2\n\n10\n"
     ]
    }
   ],
   "source": [
    "total_seconds = 130\n",
    "total_minutes = total_seconds // 60 # floor division\n",
    "print(total_minutes)\n",
    "\n",
    "print()\n",
    "\n",
    "remainder = total_seconds % 60 \n",
    "print(remainder)"
   ]
  },
  {
   "cell_type": "code",
   "execution_count": 34,
   "metadata": {},
   "outputs": [
    {
     "output_type": "execute_result",
     "data": {
      "text/plain": [
       "(2, 10)"
      ]
     },
     "metadata": {},
     "execution_count": 34
    }
   ],
   "source": [
    "divmod(130, 60) # the first return the quotient and the second return the remainder"
   ]
  },
  {
   "source": [
    "# True division\n",
    "\n",
    "* true division operator / will produce a true, floating-point value, it does this even if the two parameters are integer"
   ],
   "cell_type": "markdown",
   "metadata": {}
  },
  {
   "cell_type": "code",
   "execution_count": 35,
   "metadata": {},
   "outputs": [
    {
     "output_type": "execute_result",
     "data": {
      "text/plain": [
       "13099160.833333334"
      ]
     },
     "metadata": {},
     "execution_count": 35
    }
   ],
   "source": [
    "785949650 / 60 # a true value calculation gives us a floating-point approximation"
   ]
  },
  {
   "cell_type": "code",
   "execution_count": 36,
   "metadata": {},
   "outputs": [
    {
     "output_type": "execute_result",
     "data": {
      "text/plain": [
       "Fraction(78594965, 6)"
      ]
     },
     "metadata": {},
     "execution_count": 36
    }
   ],
   "source": [
    "# we can do division using Fractions objects, this force the result to be a mathematically exact rational number \n",
    "\n",
    "x = fractions.Fraction(785949650)\n",
    "\n",
    "# when we do arithmetric on fractions, python will promote any integers to be fractions, this promotion means that the math is done as precisely as possible\n",
    "\n",
    "x / 60 "
   ]
  },
  {
   "cell_type": "code",
   "execution_count": 37,
   "metadata": {},
   "outputs": [
    {
     "output_type": "execute_result",
     "data": {
      "text/plain": [
       "13099160.833333334"
      ]
     },
     "metadata": {},
     "execution_count": 37
    }
   ],
   "source": [
    "float(x/60)"
   ]
  },
  {
   "cell_type": "code",
   "execution_count": 38,
   "metadata": {},
   "outputs": [
    {
     "output_type": "execute_result",
     "data": {
      "text/plain": [
       "2.0"
      ]
     },
     "metadata": {},
     "execution_count": 38
    }
   ],
   "source": [
    "10/5"
   ]
  },
  {
   "cell_type": "code",
   "execution_count": 39,
   "metadata": {},
   "outputs": [
    {
     "output_type": "execute_result",
     "data": {
      "text/plain": [
       "2.0"
      ]
     },
     "metadata": {},
     "execution_count": 39
    }
   ],
   "source": [
    "10.0/5.0"
   ]
  },
  {
   "source": [
    "# Rewriting an immutable string"
   ],
   "cell_type": "markdown",
   "metadata": {}
  },
  {
   "cell_type": "code",
   "execution_count": 40,
   "metadata": {},
   "outputs": [],
   "source": [
    "title = 'Recipe 5: Rewriting, and the Immutable String'"
   ]
  },
  {
   "cell_type": "code",
   "execution_count": 41,
   "metadata": {},
   "outputs": [
    {
     "output_type": "execute_result",
     "data": {
      "text/plain": [
       "8"
      ]
     },
     "metadata": {},
     "execution_count": 41
    }
   ],
   "source": [
    "colon_index_position = title.index(':')\n",
    "colon_index_position"
   ]
  },
  {
   "cell_type": "code",
   "execution_count": 42,
   "metadata": {},
   "outputs": [
    {
     "output_type": "execute_result",
     "data": {
      "text/plain": [
       "':'"
      ]
     },
     "metadata": {},
     "execution_count": 42
    }
   ],
   "source": [
    "title[colon_index_position]"
   ]
  },
  {
   "cell_type": "code",
   "execution_count": 43,
   "metadata": {},
   "outputs": [
    {
     "output_type": "stream",
     "name": "stdout",
     "text": [
      "Recipe 5\n: Rewriting, and the Immutable String\n"
     ]
    }
   ],
   "source": [
    "to_discard, to_retain = title[:colon_index_position], title[colon_index_position:]\n",
    "\n",
    "print(to_discard)\n",
    "print(to_retain)"
   ]
  },
  {
   "cell_type": "code",
   "execution_count": 44,
   "metadata": {},
   "outputs": [
    {
     "output_type": "execute_result",
     "data": {
      "text/plain": [
       "'Receipe 6: Rewriting, and the Immutable String'"
      ]
     },
     "metadata": {},
     "execution_count": 44
    }
   ],
   "source": [
    "new_wording = 'Receipe 6' + to_retain\n",
    "new_wording"
   ]
  },
  {
   "cell_type": "code",
   "execution_count": 45,
   "metadata": {},
   "outputs": [
    {
     "output_type": "execute_result",
     "data": {
      "text/plain": [
       "('Recipe 5', ':', ' Rewriting, and the Immutable String')"
      ]
     },
     "metadata": {},
     "execution_count": 45
    }
   ],
   "source": [
    "# we can also use partitiion to split the text\n",
    "\n",
    "title.partition(':')"
   ]
  },
  {
   "source": [
    "# Complex strings with f-strings"
   ],
   "cell_type": "markdown",
   "metadata": {}
  },
  {
   "cell_type": "code",
   "execution_count": 46,
   "metadata": {},
   "outputs": [],
   "source": [
    "id_ = 'IAD'\n",
    "location = 'Dulles Intl Airport'\n",
    "max_temp = 32\n",
    "min_temp = 13\n",
    "precipitation = 0.4 "
   ]
  },
  {
   "cell_type": "code",
   "execution_count": 47,
   "metadata": {},
   "outputs": [
    {
     "output_type": "execute_result",
     "data": {
      "text/plain": [
       "'IAD : Dulles Intl Airport : 32 / 13 / 0.4'"
      ]
     },
     "metadata": {},
     "execution_count": 47
    }
   ],
   "source": [
    "concat_string = f'{id_} : {location} : {max_temp} / {min_temp} / {precipitation}'\n",
    "concat_string"
   ]
  },
  {
   "cell_type": "code",
   "execution_count": 48,
   "metadata": {},
   "outputs": [
    {
     "output_type": "execute_result",
     "data": {
      "text/plain": [
       "'IAD : Dulles Intl Airport : 32 / 13 / 0.400000'"
      ]
     },
     "metadata": {},
     "execution_count": 48
    }
   ],
   "source": [
    "# we can define the data type within the same f-string\n",
    "concat_string = f'{id_:s} : {location:s} : {max_temp:d} / {min_temp:d} / {precipitation:f}'\n",
    "concat_string"
   ]
  },
  {
   "cell_type": "code",
   "execution_count": 49,
   "metadata": {},
   "outputs": [
    {
     "output_type": "execute_result",
     "data": {
      "text/plain": [
       "'IAD : Dulles Intl Airport :  32 /  13 / 0.40'"
      ]
     },
     "metadata": {},
     "execution_count": 49
    }
   ],
   "source": [
    "# we can adjust the lenght of the string as well by prefixing the desired lenght in front of the data type\n",
    "concat_string = f'{id_:s} : {location:s} : {max_temp:3d} / {min_temp:3d} / {precipitation:3.2f}'\n",
    "concat_string"
   ]
  },
  {
   "cell_type": "code",
   "execution_count": 50,
   "metadata": {},
   "outputs": [
    {
     "output_type": "execute_result",
     "data": {
      "text/plain": [
       "\"'sample'\""
      ]
     },
     "metadata": {},
     "execution_count": 50
    }
   ],
   "source": [
    "sample_string = 'sample'\n",
    "\n",
    "x = f'{sample_string!r}'\n",
    "x"
   ]
  },
  {
   "cell_type": "code",
   "execution_count": 51,
   "metadata": {},
   "outputs": [
    {
     "output_type": "execute_result",
     "data": {
      "text/plain": [
       "\"['apple', 'pear']\""
      ]
     },
     "metadata": {},
     "execution_count": 51
    }
   ],
   "source": [
    "lst = ['apple', 'pear']\n",
    "str(lst)"
   ]
  },
  {
   "cell_type": "code",
   "execution_count": 52,
   "metadata": {},
   "outputs": [
    {
     "output_type": "execute_result",
     "data": {
      "text/plain": [
       "\"['apple', 'pear']\""
      ]
     },
     "metadata": {},
     "execution_count": 52
    }
   ],
   "source": [
    "f'{lst!s}'"
   ]
  },
  {
   "source": [
    "\n",
    "# Building complicated string"
   ],
   "cell_type": "markdown",
   "metadata": {}
  },
  {
   "cell_type": "code",
   "execution_count": 53,
   "metadata": {},
   "outputs": [
    {
     "output_type": "execute_result",
     "data": {
      "text/plain": [
       "'Rewriting an Immutable String'"
      ]
     },
     "metadata": {},
     "execution_count": 53
    }
   ],
   "source": [
    "import string\n",
    "\n",
    "title = 'Recipe 5: Rewriting an Immutable String'\n",
    "output = title.partition(': ')[-1]\n",
    "output"
   ]
  },
  {
   "cell_type": "code",
   "execution_count": 54,
   "metadata": {},
   "outputs": [
    {
     "output_type": "execute_result",
     "data": {
      "text/plain": [
       "'Rewriting_an_Immutable_String'"
      ]
     },
     "metadata": {},
     "execution_count": 54
    }
   ],
   "source": [
    "''.join(['_' if i in string.whitespace else i for i in output])"
   ]
  },
  {
   "source": [
    "# Unicode characters that are not on the keyboard"
   ],
   "cell_type": "markdown",
   "metadata": {}
  },
  {
   "cell_type": "code",
   "execution_count": 55,
   "metadata": {},
   "outputs": [
    {
     "output_type": "execute_result",
     "data": {
      "text/plain": [
       "'You roll a 믮'"
      ]
     },
     "metadata": {},
     "execution_count": 55
    }
   ],
   "source": [
    "f'You roll a \\ubbee'"
   ]
  },
  {
   "cell_type": "code",
   "execution_count": 56,
   "metadata": {},
   "outputs": [
    {
     "output_type": "execute_result",
     "data": {
      "text/plain": [
       "'You roll a 🀄'"
      ]
     },
     "metadata": {},
     "execution_count": 56
    }
   ],
   "source": [
    "f'You roll a \\N{MAHJONG TILE RED DRAGON}'"
   ]
  },
  {
   "cell_type": "code",
   "execution_count": 57,
   "metadata": {},
   "outputs": [
    {
     "output_type": "execute_result",
     "data": {
      "text/plain": [
       "'HELLO'"
      ]
     },
     "metadata": {},
     "execution_count": 57
    }
   ],
   "source": [
    "# Python uses Unicode internally\n",
    "'HELLO'"
   ]
  },
  {
   "cell_type": "code",
   "execution_count": 58,
   "metadata": {},
   "outputs": [
    {
     "output_type": "execute_result",
     "data": {
      "text/plain": [
       "'HELLO'"
      ]
     },
     "metadata": {},
     "execution_count": 58
    }
   ],
   "source": [
    "# internally, Python treat the above as shorthand for this\n",
    "'\\u0048\\u0045\\u004c\\u004c\\u004f'"
   ]
  },
  {
   "cell_type": "code",
   "execution_count": 59,
   "metadata": {},
   "outputs": [
    {
     "output_type": "execute_result",
     "data": {
      "text/plain": [
       "b'HELLO'"
      ]
     },
     "metadata": {},
     "execution_count": 59
    }
   ],
   "source": [
    "'\\u0048\\u0045\\u004c\\u004c\\u004f'.encode('UTF-8')"
   ]
  },
  {
   "source": [
    "# Decoding Bytes"
   ],
   "cell_type": "markdown",
   "metadata": {}
  },
  {
   "cell_type": "code",
   "execution_count": 60,
   "metadata": {},
   "outputs": [],
   "source": [
    "import requests\n",
    "web_url = 'https://forecast.weather.gov/product.php?site=CRH&issuedby=AKQ&product=SMW&format=TXT'"
   ]
  },
  {
   "cell_type": "code",
   "execution_count": 61,
   "metadata": {},
   "outputs": [
    {
     "output_type": "execute_result",
     "data": {
      "text/plain": [
       "'UTF-8'"
      ]
     },
     "metadata": {},
     "execution_count": 61
    }
   ],
   "source": [
    "# when we receive information from the internet, it is almost in bytes\n",
    "\n",
    "res = requests.get(web_url)\n",
    "res.encoding"
   ]
  },
  {
   "cell_type": "code",
   "execution_count": 62,
   "metadata": {},
   "outputs": [
    {
     "output_type": "stream",
     "name": "stdout",
     "text": [
      "<!DOCTYPE html PUBLIC \"-//W3C//DTD XHTML 1.0 Strict//EN\" \"http://www.w3.org/TR/xhtml1/DTD/xhtml1-strict.dtd\">\n<html xmlns=\"http://www.w3.org/1999/xhtml\" xml:lang=\"en\"><head>\n<meta http-equiv=\"Content-Type\" content=\"application/xhtml+xml; charset=utf-8\" />\n<link rel=\"schema.DC\" href=\"http://purl.org/dc/elements/1.1/\" /><title>National Weather Service Text Product Display</title>\n<meta name=\"DC.title\" content=\"National Weather Service Text Product Display\" />\n<meta name=\"DC.description\" content=\"National Weather Service is your source for the most complete weather forecast and weather related information on the web\" />\n<meta name=\"DC.creator\" content=\"US Department of Commerce, NOAA, National Weather Service\" />\n<meta name=\"DC.date.created\" scheme=\"ISO8601\" content=\"2021-02-01\" />\n<meta name=\"DC.date.reviewed\" scheme=\"ISO8601\" content=\"2013-12-11\" />\n<meta name=\"DC.language\" scheme=\"DCTERMS.RFC1766\" content=\"EN-US\" />\n<meta name=\"DC.keywords\" content=\"weather, local weather forecast, local forecast, weather forecasts, local weather, radar, fire weather, center weather service units, hamweather\" />\n<meta name=\"DC.publisher\" content=\"NOAA's National Weather Service\" />\n<meta name=\"DC.contributor\" content=\"National Weather Service\" />\n<meta name=\"DC.rights\" content=\"http://www.weather.gov/disclaimer.php\" />\n<meta name=\"rating\" content=\"General\" />\n<meta name=\"robots\" content=\"index,follow\" />\n<meta name=\"Distribution\" content=\"Global\" />\n<meta http-equiv=\"Content-Style-Type\" content=\"text/css\" />\n<meta http-equiv=\"Content-Script-Type\" content=\"text/javascript\" />\n<link href=\"/css/default/secondary.css\" title=\"nwsstyle\" rel=\"stylesheet\" type=\"text/css\" media=\"all\" />\n<link href=\"/css/product/main.css\" title=\"nwsstyle\" rel=\"stylesheet\" type=\"text/css\" media=\"all\"></head>\n<body>\n<div id=\"container\"><a href=\"#skipnav\" class=\"skip\">Skip Navigation</a>\n<a name=\"skipnav\"></a>\n<div id=\"local\">\n<!-- // CONTENT STARTS HERE -->\n\n<span style=\"font-size: 20px; font-weight:bold;\">Special Marine Warning </span>Issued by NWS Wakefield, VA<br /><br /><a href=\"https://www.weather.gov/crh/\">Home</a>&nbsp;|&nbsp;<b>Current Version</b> &nbsp;|&nbsp;<b>Previous Version</b> &nbsp;|&nbsp;<b>Text Only</b> &nbsp;|&nbsp;<b>Print</b> &nbsp;|&nbsp;<a href=\"product_types.php?site=CRH\">Product List</a></div><div>Versions: <b>0</b><hr size=\"1\" width=\"520\"noshade=\"noshade\" align=\"left\" /></div><div><span style=\"color:Red;\">None issued by this office recently.</span></div>\n\n\n<!-- // CONTENT ENDS HERE -->\n</div>\n<hr width=\"100%\" />\n<div id=\"required\">\n<div id=\"firstgov\"><a href=\"/nwsexit.php?url=http://www.usa.gov/\"><img src=\"/css/default/images/usagov.gif\" alt=\"USA.gov is the U.S. government's official web portal to all federal, state and local government web resources and services.\" class=\"img\" width=\"110\" height=\"30\" /></a></div>\n<ul id=\"contact\">\n<li>National Weather Service</li>\n<li>Central Region Headquarters Regional Headquarters</li>\n<li>7220 NW 101st Terrace</li><li>Kansas City, MO  64153</li>\n<li></li>\n<li>Page Author: CRH Webmaster</li>\n<li>Web Master's E-mail: <a href=\"mailto:w-crh.webmaster@noaa.gov\">w-crh.webmaster@noaa.gov</a></li>\n<li>Page last modified: Feb 1st, 2021 20:13 UTC</li>\n</ul>\n<ul id=\"disclaimer\">\n<li><a href=\"http://www.weather.gov/disclaimer.php\">Disclaimer</a></li>\n<li><a href=\"http://www.weather.gov/credits.php\">Credits</a></li>\n<li><a href=\"http://www.weather.gov/glossary/\">Glossary</a></li>\n</ul>\n<ul id=\"policy\">\n<li><a href=\"http://www.weather.gov/privacy.php\">Privacy Policy</a></li>\n<li><a href=\"http://www.weather.gov/admin.php\">About Us</a></li>\n<li><a href=\"http://www.weather.gov/careers.php\">Career Opportunities</a></li>\n</ul>\n</div>\n</body></html>\n\n"
     ]
    }
   ],
   "source": [
    "information = res.text\n",
    "print(information)"
   ]
  },
  {
   "cell_type": "code",
   "execution_count": 63,
   "metadata": {},
   "outputs": [],
   "source": [
    "def make_bitseq(s: str) -> str:\n",
    "    if not s.isascii():\n",
    "        raise ValueError(\"ASCII only allowed\")\n",
    "    return \" \".join(f\"{ord(i):08b}\" for i in s)"
   ]
  },
  {
   "source": [
    "# Tuples"
   ],
   "cell_type": "markdown",
   "metadata": {}
  },
  {
   "cell_type": "code",
   "execution_count": 72,
   "metadata": {},
   "outputs": [
    {
     "output_type": "execute_result",
     "data": {
      "text/plain": [
       "str"
      ]
     },
     "metadata": {},
     "execution_count": 72
    }
   ],
   "source": [
    "one_tuple = ('sample')\n",
    "type(one_tuple)"
   ]
  },
  {
   "cell_type": "code",
   "execution_count": 73,
   "metadata": {},
   "outputs": [
    {
     "output_type": "execute_result",
     "data": {
      "text/plain": [
       "tuple"
      ]
     },
     "metadata": {},
     "execution_count": 73
    }
   ],
   "source": [
    "one_tuple = ('sample', ) # have to include a comma for a singleton , i.e. when a tuple only has one element, have to include a comma\n",
    "type(one_tuple)"
   ]
  },
  {
   "cell_type": "code",
   "execution_count": 91,
   "metadata": {},
   "outputs": [],
   "source": [
    "rgb = (25, 250, 255)"
   ]
  },
  {
   "cell_type": "code",
   "execution_count": 92,
   "metadata": {},
   "outputs": [
    {
     "output_type": "execute_result",
     "data": {
      "text/plain": [
       "rgb_named(red=100, blue=255, green=66)"
      ]
     },
     "metadata": {},
     "execution_count": 92
    }
   ],
   "source": [
    "from typing import NamedTuple\n",
    "\n",
    "class rgb_named(NamedTuple):\n",
    "    red: int\n",
    "    blue: int\n",
    "    green: int\n",
    "\n",
    "x = rgb_named(100,255,66)\n",
    "x"
   ]
  },
  {
   "cell_type": "code",
   "execution_count": 93,
   "metadata": {},
   "outputs": [
    {
     "output_type": "execute_result",
     "data": {
      "text/plain": [
       "100"
      ]
     },
     "metadata": {},
     "execution_count": 93
    }
   ],
   "source": [
    "x.red"
   ]
  },
  {
   "cell_type": "code",
   "execution_count": 94,
   "metadata": {},
   "outputs": [],
   "source": [
    "class rgb_name_2(NamedTuple):\n",
    "    red: str\n",
    "    blue: int\n",
    "    green: str"
   ]
  },
  {
   "cell_type": "code",
   "execution_count": null,
   "metadata": {},
   "outputs": [],
   "source": []
  }
 ]
}