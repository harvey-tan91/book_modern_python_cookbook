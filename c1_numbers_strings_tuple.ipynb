{
 "metadata": {
  "language_info": {
   "codemirror_mode": {
    "name": "ipython",
    "version": 3
   },
   "file_extension": ".py",
   "mimetype": "text/x-python",
   "name": "python",
   "nbconvert_exporter": "python",
   "pygments_lexer": "ipython3",
   "version": "3.8.3-final"
  },
  "orig_nbformat": 2,
  "kernelspec": {
   "name": "python3",
   "display_name": "Python 3.8.3 64-bit (conda)",
   "metadata": {
    "interpreter": {
     "hash": "eb8f35743f9001c30e3bbd777425f7e52a39aada76c3a9d7849db12bd416f99c"
    }
   }
  }
 },
 "nbformat": 4,
 "nbformat_minor": 2,
 "cells": [
  {
   "source": [
    "# Large and Small Integer\n",
    "\n",
    "* Python has two representations for numbers\n",
    "* Large integer value and small integer value"
   ],
   "cell_type": "markdown",
   "metadata": {}
  },
  {
   "cell_type": "code",
   "execution_count": 59,
   "metadata": {},
   "outputs": [],
   "source": [
    "import sys\n",
    "import math"
   ]
  },
  {
   "cell_type": "code",
   "execution_count": 60,
   "metadata": {},
   "outputs": [
    {
     "output_type": "execute_result",
     "data": {
      "text/plain": [
       "9223372036854775807"
      ]
     },
     "metadata": {},
     "execution_count": 60
    }
   ],
   "source": [
    "sys.maxsize # this value is the largest of the small integer values"
   ]
  },
  {
   "cell_type": "code",
   "execution_count": 61,
   "metadata": {},
   "outputs": [
    {
     "output_type": "execute_result",
     "data": {
      "text/plain": [
       "63.0"
      ]
     },
     "metadata": {},
     "execution_count": 61
    }
   ],
   "source": [
    "math.log(sys.maxsize, 2) # this give us the many of bits require for the max small integer value"
   ]
  },
  {
   "cell_type": "code",
   "execution_count": 62,
   "metadata": {},
   "outputs": [
    {
     "output_type": "execute_result",
     "data": {
      "text/plain": [
       "sys.int_info(bits_per_digit=30, sizeof_digit=4)"
      ]
     },
     "metadata": {},
     "execution_count": 62
    }
   ],
   "source": [
    "sys.int_info\n",
    "# this tells is that large integer are a sequence of 30-bit digits and each of these digit occupies 4 bytes\n",
    "\n",
    "\n",
    "# for numbers over the sys.maxsize, Python switches to internally representing the integer numbers as sequences of Digit, in this case, it mean a 30-bit value \n"
   ]
  },
  {
   "source": [
    "# Currency Calculation\n",
    "\n",
    "* when working with currency and dollars, best to use the decimal module"
   ],
   "cell_type": "markdown",
   "metadata": {}
  },
  {
   "cell_type": "code",
   "execution_count": 63,
   "metadata": {},
   "outputs": [
    {
     "output_type": "execute_result",
     "data": {
      "text/plain": [
       "0.213875"
      ]
     },
     "metadata": {},
     "execution_count": 63
    }
   ],
   "source": [
    "tr = 7.25/100\n",
    "pa = 2.95\n",
    "tr * pa"
   ]
  },
  {
   "cell_type": "code",
   "execution_count": 64,
   "metadata": {},
   "outputs": [],
   "source": [
    "import decimal\n",
    "\n",
    "# we can create a decimal objs from strings or interger"
   ]
  },
  {
   "cell_type": "code",
   "execution_count": 65,
   "metadata": {},
   "outputs": [
    {
     "output_type": "execute_result",
     "data": {
      "text/plain": [
       "Decimal('0.213875')"
      ]
     },
     "metadata": {},
     "execution_count": 65
    }
   ],
   "source": [
    "tax_rate = decimal.Decimal('7.25') / decimal.Decimal(100)\n",
    "purchase_amount = decimal.Decimal('2.95')\n",
    "\n",
    "tax_amount = tax_rate * purchase_amount\n",
    "tax_amount"
   ]
  },
  {
   "cell_type": "code",
   "execution_count": 66,
   "metadata": {},
   "outputs": [
    {
     "output_type": "execute_result",
     "data": {
      "text/plain": [
       "Decimal('0.21')"
      ]
     },
     "metadata": {},
     "execution_count": 66
    }
   ],
   "source": [
    "penny = decimal.Decimal('0.01') # to create a rounding object\n",
    "tax_amount.quantize(penny)"
   ]
  },
  {
   "cell_type": "code",
   "execution_count": 67,
   "metadata": {},
   "outputs": [
    {
     "output_type": "stream",
     "name": "stdout",
     "text": [
      "3.163875\n3.16\n"
     ]
    }
   ],
   "source": [
    "total_amount = purchase_amount + tax_amount\n",
    "\n",
    "print(total_amount)\n",
    "print(total_amount.quantize(penny))"
   ]
  },
  {
   "cell_type": "code",
   "execution_count": 68,
   "metadata": {},
   "outputs": [
    {
     "output_type": "execute_result",
     "data": {
      "text/plain": [
       "Decimal('3.17')"
      ]
     },
     "metadata": {},
     "execution_count": 68
    }
   ],
   "source": [
    "total_amount.quantize(penny, decimal.ROUND_UP)"
   ]
  },
  {
   "source": [
    "# Fractions\n",
    "\n",
    "* when working with exact fraction values, best to use fractions module\n",
    "* fraction is an exact ratio of two integer value "
   ],
   "cell_type": "markdown",
   "metadata": {}
  },
  {
   "cell_type": "code",
   "execution_count": 69,
   "metadata": {},
   "outputs": [],
   "source": [
    "import fractions"
   ]
  },
  {
   "cell_type": "code",
   "execution_count": 70,
   "metadata": {},
   "outputs": [
    {
     "output_type": "execute_result",
     "data": {
      "text/plain": [
       "Fraction(25, 16)"
      ]
     },
     "metadata": {},
     "execution_count": 70
    }
   ],
   "source": [
    "sugar_cups = fractions.Fraction('2.5')\n",
    "scale_factor = fractions.Fraction(5/8)\n",
    "\n",
    "sugar_cups * scale_factor"
   ]
  },
  {
   "cell_type": "code",
   "execution_count": 71,
   "metadata": {},
   "outputs": [
    {
     "output_type": "execute_result",
     "data": {
      "text/plain": [
       "Fraction(25, 16)"
      ]
     },
     "metadata": {},
     "execution_count": 71
    }
   ],
   "source": [
    "fractions.Fraction(25/16)"
   ]
  },
  {
   "cell_type": "code",
   "execution_count": 72,
   "metadata": {},
   "outputs": [
    {
     "output_type": "execute_result",
     "data": {
      "text/plain": [
       "Fraction(103, 10)"
      ]
     },
     "metadata": {},
     "execution_count": 72
    }
   ],
   "source": [
    "fractions.Fraction('10.3')"
   ]
  },
  {
   "cell_type": "code",
   "execution_count": 73,
   "metadata": {},
   "outputs": [
    {
     "output_type": "execute_result",
     "data": {
      "text/plain": [
       "Fraction(2501999792983609, 4503599627370496)"
      ]
     },
     "metadata": {},
     "execution_count": 73
    }
   ],
   "source": [
    "# when we create fraction object from floating-point value, we may see unpleasant  representation of float approximation\n",
    "fractions.Fraction(5/9)"
   ]
  },
  {
   "cell_type": "code",
   "execution_count": 74,
   "metadata": {},
   "outputs": [
    {
     "output_type": "execute_result",
     "data": {
      "text/plain": [
       "Fraction(5, 8)"
      ]
     },
     "metadata": {},
     "execution_count": 74
    }
   ],
   "source": [
    "# when the denominator is a power of 2, -1/2, -1/4 and so on, converting from float to fraction can work out exactly\n",
    "fractions.Fraction(5/8)"
   ]
  },
  {
   "source": [
    "# Floating-Point Approximation\n",
    "\n",
    "* All floating point calculation are approximation\n",
    "* The built-in float type is as close as we can get to the mathematical abstraction of irrational numbers"
   ],
   "cell_type": "markdown",
   "metadata": {}
  },
  {
   "cell_type": "code",
   "execution_count": 90,
   "metadata": {},
   "outputs": [
    {
     "output_type": "execute_result",
     "data": {
      "text/plain": [
       "0.11764705882352941"
      ]
     },
     "metadata": {},
     "execution_count": 90
    }
   ],
   "source": [
    "2/17"
   ]
  },
  {
   "cell_type": "code",
   "execution_count": 88,
   "metadata": {},
   "outputs": [
    {
     "output_type": "execute_result",
     "data": {
      "text/plain": [
       "0.125"
      ]
     },
     "metadata": {},
     "execution_count": 88
    }
   ],
   "source": [
    "2/16 # when doing division that invovles power of 2, it can be exact as a fraction"
   ]
  },
  {
   "cell_type": "code",
   "execution_count": 75,
   "metadata": {},
   "outputs": [
    {
     "output_type": "execute_result",
     "data": {
      "text/plain": [
       "0.9999999999999999"
      ]
     },
     "metadata": {},
     "execution_count": 75
    }
   ],
   "source": [
    "x = (19/155) * (155/19)\n",
    "x"
   ]
  },
  {
   "cell_type": "code",
   "execution_count": 76,
   "metadata": {},
   "outputs": [
    {
     "output_type": "execute_result",
     "data": {
      "text/plain": [
       "1.0"
      ]
     },
     "metadata": {},
     "execution_count": 76
    }
   ],
   "source": [
    "round(x,3)"
   ]
  },
  {
   "cell_type": "code",
   "execution_count": 77,
   "metadata": {},
   "outputs": [
    {
     "output_type": "execute_result",
     "data": {
      "text/plain": [
       "1.1102230246251565e-16"
      ]
     },
     "metadata": {},
     "execution_count": 77
    }
   ],
   "source": [
    "error = 1 - x\n",
    "error\n",
    "# some times, python has clever rules that hide this error by doing some automatic rounding"
   ]
  },
  {
   "cell_type": "code",
   "execution_count": 78,
   "metadata": {},
   "outputs": [
    {
     "output_type": "execute_result",
     "data": {
      "text/plain": [
       "False"
      ]
     },
     "metadata": {},
     "execution_count": 78
    }
   ],
   "source": [
    "x == 1 # don't compare floating-point values for exact equality"
   ]
  },
  {
   "source": [
    "# Conversion"
   ],
   "cell_type": "markdown",
   "metadata": {}
  },
  {
   "cell_type": "code",
   "execution_count": 80,
   "metadata": {},
   "outputs": [
    {
     "output_type": "execute_result",
     "data": {
      "text/plain": [
       "3.163875"
      ]
     },
     "metadata": {},
     "execution_count": 80
    }
   ],
   "source": [
    "float(total_amount)"
   ]
  },
  {
   "cell_type": "code",
   "execution_count": 81,
   "metadata": {},
   "outputs": [
    {
     "output_type": "execute_result",
     "data": {
      "text/plain": [
       "1.5625"
      ]
     },
     "metadata": {},
     "execution_count": 81
    }
   ],
   "source": [
    "float(sugar_cups * scale_factor)"
   ]
  },
  {
   "cell_type": "code",
   "execution_count": 82,
   "metadata": {},
   "outputs": [
    {
     "output_type": "execute_result",
     "data": {
      "text/plain": [
       "Fraction(8832866365939553, 72057594037927936)"
      ]
     },
     "metadata": {},
     "execution_count": 82
    }
   ],
   "source": [
    "fractions.Fraction(19/155)\n",
    "# the floating value has a truncation problem\n",
    "# and when we create a fraction from that TRUNCATED floating value, it exposes the details of the truncation"
   ]
  },
  {
   "cell_type": "code",
   "execution_count": 91,
   "metadata": {},
   "outputs": [
    {
     "output_type": "execute_result",
     "data": {
      "text/plain": [
       "Decimal('0.12258064516129031640279123394066118635237216949462890625')"
      ]
     },
     "metadata": {},
     "execution_count": 91
    }
   ],
   "source": [
    "decimal.Decimal(19/155)"
   ]
  },
  {
   "cell_type": "code",
   "execution_count": null,
   "metadata": {},
   "outputs": [],
   "source": [
    "# not all computable numbers can be represented by fractions, hence we have irrational numbers and float number is a best approximation to irrational number\n",
    "# float values are very fast on modern processors"
   ]
  },
  {
   "source": [
    "# Math module for approximation"
   ],
   "cell_type": "markdown",
   "metadata": {}
  },
  {
   "cell_type": "code",
   "execution_count": 119,
   "metadata": {},
   "outputs": [],
   "source": [
    "import math\n",
    "import cmath"
   ]
  },
  {
   "cell_type": "code",
   "execution_count": 104,
   "metadata": {},
   "outputs": [
    {
     "output_type": "execute_result",
     "data": {
      "text/plain": [
       "False"
      ]
     },
     "metadata": {},
     "execution_count": 104
    }
   ],
   "source": [
    "(19/155) * (155/19) == 1.0"
   ]
  },
  {
   "cell_type": "code",
   "execution_count": 105,
   "metadata": {},
   "outputs": [
    {
     "output_type": "execute_result",
     "data": {
      "text/plain": [
       "True"
      ]
     },
     "metadata": {},
     "execution_count": 105
    }
   ],
   "source": [
    "math.isclose( (19/155) * (155/19), 1)"
   ]
  },
  {
   "cell_type": "code",
   "execution_count": 115,
   "metadata": {},
   "outputs": [
    {
     "output_type": "stream",
     "name": "stdout",
     "text": [
      "1.9999999999999998\n1.9999999999999998\n"
     ]
    }
   ],
   "source": [
    "x1 = (19/155) * (155/19) \n",
    "x2 = (19/155) * (155/19) \n",
    "\n",
    "print(sum([x1,x2]))\n",
    "print(math.fsum([x1, x2]))"
   ]
  },
  {
   "cell_type": "code",
   "execution_count": 120,
   "metadata": {},
   "outputs": [
    {
     "output_type": "execute_result",
     "data": {
      "text/plain": [
       "(1.4142135623730951+0j)"
      ]
     },
     "metadata": {},
     "execution_count": 120
    }
   ],
   "source": [
    "cmath.sqrt(2) # a complex number has a real and imaginary part"
   ]
  },
  {
   "source": [
    "# True and Floor Division"
   ],
   "cell_type": "markdown",
   "metadata": {}
  },
  {
   "cell_type": "code",
   "execution_count": 122,
   "metadata": {},
   "outputs": [
    {
     "output_type": "stream",
     "name": "stdout",
     "text": [
      "2\n\n10\n"
     ]
    }
   ],
   "source": [
    "total_seconds = 130\n",
    "total_minutes = total_seconds // 60 # floor division\n",
    "print(total_minutes)\n",
    "\n",
    "print()\n",
    "\n",
    "remainder = total_seconds % 60 \n",
    "print(remainder)"
   ]
  },
  {
   "cell_type": "code",
   "execution_count": 125,
   "metadata": {},
   "outputs": [
    {
     "output_type": "execute_result",
     "data": {
      "text/plain": [
       "(2, 10)"
      ]
     },
     "metadata": {},
     "execution_count": 125
    }
   ],
   "source": [
    "divmod(130, 60) # the first return the quotient and the second return the remainder"
   ]
  },
  {
   "source": [
    "# True division\n",
    "\n",
    "* true division operator / will produce a true, floating-point value, it does this even if the two parameters are integer"
   ],
   "cell_type": "markdown",
   "metadata": {}
  },
  {
   "cell_type": "code",
   "execution_count": 135,
   "metadata": {},
   "outputs": [
    {
     "output_type": "execute_result",
     "data": {
      "text/plain": [
       "13099160.833333334"
      ]
     },
     "metadata": {},
     "execution_count": 135
    }
   ],
   "source": [
    "785949650 / 60 # a true value calculation gives us a floating-point approximation"
   ]
  },
  {
   "cell_type": "code",
   "execution_count": 136,
   "metadata": {},
   "outputs": [
    {
     "output_type": "execute_result",
     "data": {
      "text/plain": [
       "Fraction(78594965, 6)"
      ]
     },
     "metadata": {},
     "execution_count": 136
    }
   ],
   "source": [
    "# we can do division using Fractions objects, this force the result to be a mathematically exact rational number \n",
    "\n",
    "x = fractions.Fraction(785949650)\n",
    "\n",
    "# when we do arithmetric on fractions, python will promote any integers to be fractions, this promotion means that the math is done as precisely as possible\n",
    "\n",
    "x / 60 "
   ]
  },
  {
   "cell_type": "code",
   "execution_count": 137,
   "metadata": {},
   "outputs": [
    {
     "output_type": "execute_result",
     "data": {
      "text/plain": [
       "13099160.833333334"
      ]
     },
     "metadata": {},
     "execution_count": 137
    }
   ],
   "source": [
    "float(x/60)"
   ]
  },
  {
   "cell_type": "code",
   "execution_count": 138,
   "metadata": {},
   "outputs": [
    {
     "output_type": "execute_result",
     "data": {
      "text/plain": [
       "2.0"
      ]
     },
     "metadata": {},
     "execution_count": 138
    }
   ],
   "source": [
    "10/5"
   ]
  },
  {
   "cell_type": "code",
   "execution_count": 139,
   "metadata": {},
   "outputs": [
    {
     "output_type": "execute_result",
     "data": {
      "text/plain": [
       "2.0"
      ]
     },
     "metadata": {},
     "execution_count": 139
    }
   ],
   "source": [
    "10.0/5.0"
   ]
  },
  {
   "source": [
    "# Rewriting an immutable string"
   ],
   "cell_type": "markdown",
   "metadata": {}
  },
  {
   "cell_type": "code",
   "execution_count": 141,
   "metadata": {},
   "outputs": [],
   "source": [
    "title = 'Recipe 5: Rewriting, and the Immutable String'"
   ]
  },
  {
   "cell_type": "code",
   "execution_count": 142,
   "metadata": {},
   "outputs": [
    {
     "output_type": "execute_result",
     "data": {
      "text/plain": [
       "8"
      ]
     },
     "metadata": {},
     "execution_count": 142
    }
   ],
   "source": [
    "colon_index_position = title.index(':')\n",
    "colon_index_position"
   ]
  },
  {
   "cell_type": "code",
   "execution_count": 143,
   "metadata": {},
   "outputs": [
    {
     "output_type": "execute_result",
     "data": {
      "text/plain": [
       "':'"
      ]
     },
     "metadata": {},
     "execution_count": 143
    }
   ],
   "source": [
    "title[colon_index_position]"
   ]
  },
  {
   "cell_type": "code",
   "execution_count": 145,
   "metadata": {},
   "outputs": [
    {
     "output_type": "stream",
     "name": "stdout",
     "text": [
      "Recipe 5\n: Rewriting, and the Immutable String\n"
     ]
    }
   ],
   "source": [
    "to_discard, to_retain = title[:colon_index_position], title[colon_index_position:]\n",
    "\n",
    "print(to_discard)\n",
    "print(to_retain)"
   ]
  },
  {
   "cell_type": "code",
   "execution_count": 146,
   "metadata": {},
   "outputs": [
    {
     "output_type": "execute_result",
     "data": {
      "text/plain": [
       "'Receipe 6: Rewriting, and the Immutable String'"
      ]
     },
     "metadata": {},
     "execution_count": 146
    }
   ],
   "source": [
    "new_wording = 'Receipe 6' + to_retain\n",
    "new_wording"
   ]
  },
  {
   "cell_type": "code",
   "execution_count": 148,
   "metadata": {},
   "outputs": [
    {
     "output_type": "execute_result",
     "data": {
      "text/plain": [
       "('Recipe 5', ':', ' Rewriting, and the Immutable String')"
      ]
     },
     "metadata": {},
     "execution_count": 148
    }
   ],
   "source": [
    "# we can also use partitiion to split the text\n",
    "\n",
    "title.partition(':')"
   ]
  },
  {
   "cell_type": "code",
   "execution_count": null,
   "metadata": {},
   "outputs": [],
   "source": []
  },
  {
   "cell_type": "code",
   "execution_count": null,
   "metadata": {},
   "outputs": [],
   "source": []
  },
  {
   "cell_type": "code",
   "execution_count": null,
   "metadata": {},
   "outputs": [],
   "source": []
  },
  {
   "cell_type": "code",
   "execution_count": null,
   "metadata": {},
   "outputs": [],
   "source": []
  },
  {
   "cell_type": "code",
   "execution_count": null,
   "metadata": {},
   "outputs": [],
   "source": []
  },
  {
   "cell_type": "code",
   "execution_count": null,
   "metadata": {},
   "outputs": [],
   "source": []
  },
  {
   "cell_type": "code",
   "execution_count": null,
   "metadata": {},
   "outputs": [],
   "source": []
  },
  {
   "cell_type": "code",
   "execution_count": null,
   "metadata": {},
   "outputs": [],
   "source": []
  },
  {
   "cell_type": "code",
   "execution_count": null,
   "metadata": {},
   "outputs": [],
   "source": []
  },
  {
   "cell_type": "code",
   "execution_count": null,
   "metadata": {},
   "outputs": [],
   "source": []
  },
  {
   "cell_type": "code",
   "execution_count": null,
   "metadata": {},
   "outputs": [],
   "source": []
  },
  {
   "cell_type": "code",
   "execution_count": null,
   "metadata": {},
   "outputs": [],
   "source": []
  },
  {
   "cell_type": "code",
   "execution_count": null,
   "metadata": {},
   "outputs": [],
   "source": []
  },
  {
   "cell_type": "code",
   "execution_count": null,
   "metadata": {},
   "outputs": [],
   "source": []
  },
  {
   "cell_type": "code",
   "execution_count": null,
   "metadata": {},
   "outputs": [],
   "source": []
  },
  {
   "cell_type": "code",
   "execution_count": null,
   "metadata": {},
   "outputs": [],
   "source": []
  },
  {
   "cell_type": "code",
   "execution_count": null,
   "metadata": {},
   "outputs": [],
   "source": []
  },
  {
   "cell_type": "code",
   "execution_count": null,
   "metadata": {},
   "outputs": [],
   "source": []
  },
  {
   "cell_type": "code",
   "execution_count": null,
   "metadata": {},
   "outputs": [],
   "source": []
  },
  {
   "cell_type": "code",
   "execution_count": null,
   "metadata": {},
   "outputs": [],
   "source": []
  },
  {
   "cell_type": "code",
   "execution_count": null,
   "metadata": {},
   "outputs": [],
   "source": []
  },
  {
   "cell_type": "code",
   "execution_count": null,
   "metadata": {},
   "outputs": [],
   "source": []
  },
  {
   "cell_type": "code",
   "execution_count": null,
   "metadata": {},
   "outputs": [],
   "source": []
  },
  {
   "cell_type": "code",
   "execution_count": null,
   "metadata": {},
   "outputs": [],
   "source": []
  },
  {
   "cell_type": "code",
   "execution_count": null,
   "metadata": {},
   "outputs": [],
   "source": []
  },
  {
   "cell_type": "code",
   "execution_count": null,
   "metadata": {},
   "outputs": [],
   "source": []
  },
  {
   "cell_type": "code",
   "execution_count": null,
   "metadata": {},
   "outputs": [],
   "source": []
  },
  {
   "cell_type": "code",
   "execution_count": null,
   "metadata": {},
   "outputs": [],
   "source": []
  },
  {
   "cell_type": "code",
   "execution_count": null,
   "metadata": {},
   "outputs": [],
   "source": []
  },
  {
   "source": [],
   "cell_type": "markdown",
   "metadata": {}
  },
  {
   "cell_type": "code",
   "execution_count": null,
   "metadata": {},
   "outputs": [],
   "source": []
  }
 ]
}