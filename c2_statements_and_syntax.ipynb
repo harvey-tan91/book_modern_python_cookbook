{
 "metadata": {
  "language_info": {
   "codemirror_mode": {
    "name": "ipython",
    "version": 3
   },
   "file_extension": ".py",
   "mimetype": "text/x-python",
   "name": "python",
   "nbconvert_exporter": "python",
   "pygments_lexer": "ipython3",
   "version": "3.8.3-final"
  },
  "orig_nbformat": 2,
  "kernelspec": {
   "name": "python383jvsc74a57bd0eb8f35743f9001c30e3bbd777425f7e52a39aada76c3a9d7849db12bd416f99c",
   "display_name": "Python 3.8.3 64-bit (conda)"
  }
 },
 "nbformat": 4,
 "nbformat_minor": 2,
 "cells": [
  {
   "source": [
    "# Notes:\n",
    "* Save the python file in UTF-8 encoding\n",
    "* Create a documentation string (docstring) for your python scripts describing what the objective of the python scripts\n",
    "* Unit test cases can also be included in docstring\n",
    "* Triple-quoted documentation are preferred over # comments"
   ],
   "cell_type": "markdown",
   "metadata": {}
  },
  {
   "cell_type": "code",
   "execution_count": 1,
   "metadata": {},
   "outputs": [],
   "source": [
    "# this is the preferred method of type hinting rather than using #\n",
    "number: float = 155 / 22"
   ]
  },
  {
   "cell_type": "code",
   "execution_count": 3,
   "metadata": {},
   "outputs": [
    {
     "output_type": "stream",
     "name": "stdout",
     "text": [
      "('a', 'b')\n"
     ]
    }
   ],
   "source": [
    "print((\"a\"\n",
    ", \"b\"))"
   ]
  },
  {
   "source": [
    "# String Literal Concatenation"
   ],
   "cell_type": "markdown",
   "metadata": {}
  },
  {
   "cell_type": "code",
   "execution_count": 9,
   "metadata": {},
   "outputs": [
    {
     "output_type": "execute_result",
     "data": {
      "text/plain": [
       "'This is statement number 1 :  is -1000'"
      ]
     },
     "metadata": {},
     "execution_count": 9
    }
   ],
   "source": [
    "x = 1000\n",
    "message_text = (\n",
    "                f'This is statement number 1 : '\n",
    "                f'is {x*-1}'\n",
    ")\n",
    "message_text"
   ]
  },
  {
   "source": [
    "# Notes:\n",
    "* A logical line contain a complete statement and it can span across multiple lines through a technique called line joining\n",
    "* There is explicit line joining and implicit line joining\n",
    "* Explicit line joining is through the use of \\ and is generally frowned upon\n",
    "* Implicit line joining is through the use of () and is encouraged as it often fit semantically with the structure of the expression"
   ],
   "cell_type": "markdown",
   "metadata": {}
  },
  {
   "cell_type": "code",
   "execution_count": 11,
   "metadata": {},
   "outputs": [
    {
     "output_type": "stream",
     "name": "stdout",
     "text": [
      "this is meant to be a really really really long statement\n"
     ]
    }
   ],
   "source": [
    "print(\n",
    "    'this is meant to be a',\n",
    "    'really really really',\n",
    "    'long statement'\n",
    ")"
   ]
  },
  {
   "cell_type": "code",
   "execution_count": 16,
   "metadata": {},
   "outputs": [
    {
     "output_type": "stream",
     "name": "stdout",
     "text": [
      "this is meant to be a really really really long statement\n"
     ]
    }
   ],
   "source": [
    "print(\n",
    "'this is meant to be a \\\n",
    "really really really \\\n",
    "long statement'\n",
    ")"
   ]
  },
  {
   "cell_type": "code",
   "execution_count": 17,
   "metadata": {},
   "outputs": [],
   "source": [
    "from math import (\n",
    "    sin, cos, tan,\n",
    "    sqrt, log, frexp\n",
    ")"
   ]
  },
  {
   "source": [
    "# Sample Documentation Strings for Scripts"
   ],
   "cell_type": "markdown",
   "metadata": {}
  },
  {
   "source": [
    "\"\"\"\n",
    "\n",
    "Downloads the data from the said website, into csv files\n",
    "\n",
    "SYNOPSIS\n",
    "========\n",
    "::\n",
    "\n",
    "    python3 flows_data.py\n",
    "    \n",
    "DESCRIPTION\n",
    "===========\n",
    "Download data from the said websites \n",
    "Transform the data into the flat format\n",
    "Push the transform data into csv files\n",
    "Drop the csv file into the location\n",
    "\n",
    "FILES\n",
    "=====\n",
    "Output files -> 'inflows_xxx.csv'\n",
    "\n",
    "EXAMPLES\n",
    "========\n",
    "Here is an example:\n",
    "\n",
    "    slott$ python3 flows_data.py\n",
    "    <h3> The data is saved in the designated folder </h3>\n",
    "\n",
    "EXIT STATUS\n",
    "===========\n",
    "\n",
    "\n",
    "AUTHOR\n",
    "======\n",
    "\n",
    "\n",
    "BUGS\n",
    "====\n",
    "\n",
    "REPORTING BUGS\n",
    "==============\n",
    "\n",
    "HISTORY\n",
    "=======\n",
    "\n",
    "\n",
    "COPYRIGHT\n",
    "=========\n",
    "\n",
    "\"\"\""
   ],
   "cell_type": "markdown",
   "metadata": {}
  },
  {
   "source": [
    "# Sample Documentation Strings for library modules"
   ],
   "cell_type": "markdown",
   "metadata": {}
  },
  {
   "source": [
    "\"\"\"\n",
    "DESCRIPTION\n",
    "===========\n",
    "This section should contain a summary of what the module contains and why the module is useful.\n",
    "This is a powerful package with a lot of new functionality.\n",
    "\n",
    "MODULE CONTENTS \n",
    "===============\n",
    "This section will contain all the classes and functions\n",
    "\n",
    "- replace(self, old, new, count=-1,  )\n",
    "    - This function replaces values in a string\n",
    "\n",
    "- pop(self)\n",
    "    - This function does .........\n",
    "\n",
    "Attributes\n",
    "----------\n",
    "Here is the attributes.\n",
    "\n",
    "You can use the double star to bold a word. For example, **see this**.\n",
    "\n",
    "You can use single star to italic a word. For example *see this*.\n",
    "\n",
    "`this is meant to look like codes`\n",
    "\n",
    "\n",
    "EXAMPLES\n",
    "========\n",
    "Here is an example::\n",
    "\n",
    "    x = 'this is a word'\n",
    "    x.replace('d', 'D')\n",
    "    >>> 'this is a worD' \n",
    "\n",
    "Here is another example::\n",
    "\n",
    "    for i in ......\n",
    "\n",
    "\"\"\""
   ],
   "cell_type": "markdown",
   "metadata": {}
  },
  {
   "source": [
    "# Complex complex if chains"
   ],
   "cell_type": "markdown",
   "metadata": {}
  },
  {
   "cell_type": "code",
   "execution_count": 1,
   "metadata": {},
   "outputs": [],
   "source": [
    "def bring_umbrella(weathe: str, plan: str):\n",
    "    if weather == 'RAIN' and plan == 'GO_OUT':\n",
    "        return \"Bring Umbrella\"\n",
    "    else:\n",
    "        return \"Bring Sunglasses\"\n",
    "    \n",
    "# there are a totol of 4 alternatives and the above omit a number of possible alternatives\n",
    "# when we are claiming that there is no alternative between two conditions, it is known as \"Law of the Excluded Middle\""
   ]
  },
  {
   "source": [
    "* In a complex elif chain, having a else-raise design pattern will force us to be explicit for each every conditions\n",
    "* Nothing is assumed\n",
    "* Any error in our logic will be uncovered if the exception is raised "
   ],
   "cell_type": "markdown",
   "metadata": {}
  },
  {
   "cell_type": "code",
   "execution_count": 11,
   "metadata": {},
   "outputs": [],
   "source": [
    "def bring_umbrella(weather , plan):\n",
    "    if weather == 'RAIN' and plan == 'GO OUT':\n",
    "        return \"Bring Umbrella\"\n",
    "    elif weather == \"NOT RAIN\" and plan == 'GO OUT':\n",
    "        return \"Bring Sunglasses\"\n",
    "    else:\n",
    "        raise Exception('Design Problem')"
   ]
  },
  {
   "cell_type": "code",
   "execution_count": 13,
   "metadata": {},
   "outputs": [
    {
     "output_type": "error",
     "ename": "Exception",
     "evalue": "Design Problem",
     "traceback": [
      "\u001b[1;31m---------------------------------------------------------------------------\u001b[0m",
      "\u001b[1;31mException\u001b[0m                                 Traceback (most recent call last)",
      "\u001b[1;32m<ipython-input-13-e239c9f593f9>\u001b[0m in \u001b[0;36m<module>\u001b[1;34m\u001b[0m\n\u001b[1;32m----> 1\u001b[1;33m \u001b[0mbring_umbrella\u001b[0m\u001b[1;33m(\u001b[0m\u001b[0mweather\u001b[0m\u001b[1;33m=\u001b[0m\u001b[1;34m'RAIN'\u001b[0m\u001b[1;33m,\u001b[0m \u001b[0mplan\u001b[0m\u001b[1;33m=\u001b[0m\u001b[1;34m'NOT GO OUT'\u001b[0m\u001b[1;33m)\u001b[0m\u001b[1;33m\u001b[0m\u001b[1;33m\u001b[0m\u001b[0m\n\u001b[0m",
      "\u001b[1;32m<ipython-input-11-91a63184623b>\u001b[0m in \u001b[0;36mbring_umbrella\u001b[1;34m(weather, plan)\u001b[0m\n\u001b[0;32m      5\u001b[0m         \u001b[1;32mreturn\u001b[0m \u001b[1;34m\"Bring Sunglasses\"\u001b[0m\u001b[1;33m\u001b[0m\u001b[1;33m\u001b[0m\u001b[0m\n\u001b[0;32m      6\u001b[0m     \u001b[1;32melse\u001b[0m\u001b[1;33m:\u001b[0m\u001b[1;33m\u001b[0m\u001b[1;33m\u001b[0m\u001b[0m\n\u001b[1;32m----> 7\u001b[1;33m         \u001b[1;32mraise\u001b[0m \u001b[0mException\u001b[0m\u001b[1;33m(\u001b[0m\u001b[1;34m'Design Problem'\u001b[0m\u001b[1;33m)\u001b[0m\u001b[1;33m\u001b[0m\u001b[1;33m\u001b[0m\u001b[0m\n\u001b[0m",
      "\u001b[1;31mException\u001b[0m: Design Problem"
     ]
    }
   ],
   "source": [
    "bring_umbrella(weather='RAIN', plan='NOT GO OUT')"
   ]
  },
  {
   "cell_type": "code",
   "execution_count": null,
   "metadata": {},
   "outputs": [],
   "source": []
  },
  {
   "cell_type": "code",
   "execution_count": null,
   "metadata": {},
   "outputs": [],
   "source": []
  },
  {
   "cell_type": "code",
   "execution_count": null,
   "metadata": {},
   "outputs": [],
   "source": []
  },
  {
   "cell_type": "code",
   "execution_count": null,
   "metadata": {},
   "outputs": [],
   "source": []
  },
  {
   "cell_type": "code",
   "execution_count": null,
   "metadata": {},
   "outputs": [],
   "source": []
  },
  {
   "cell_type": "code",
   "execution_count": null,
   "metadata": {},
   "outputs": [],
   "source": []
  },
  {
   "cell_type": "code",
   "execution_count": null,
   "metadata": {},
   "outputs": [],
   "source": []
  },
  {
   "cell_type": "code",
   "execution_count": null,
   "metadata": {},
   "outputs": [],
   "source": []
  },
  {
   "cell_type": "code",
   "execution_count": null,
   "metadata": {},
   "outputs": [],
   "source": []
  }
 ]
}