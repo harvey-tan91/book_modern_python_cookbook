{
 "metadata": {
  "language_info": {
   "codemirror_mode": {
    "name": "ipython",
    "version": 3
   },
   "file_extension": ".py",
   "mimetype": "text/x-python",
   "name": "python",
   "nbconvert_exporter": "python",
   "pygments_lexer": "ipython3",
   "version": "3.8.3-final"
  },
  "orig_nbformat": 2,
  "kernelspec": {
   "name": "python3",
   "display_name": "Python 3.8.3 64-bit (conda)",
   "metadata": {
    "interpreter": {
     "hash": "eb8f35743f9001c30e3bbd777425f7e52a39aada76c3a9d7849db12bd416f99c"
    }
   }
  }
 },
 "nbformat": 4,
 "nbformat_minor": 2,
 "cells": [
  {
   "source": [
    "# Notes:\n",
    "* Save the python file in UTF-8 encoding\n",
    "* Create a documentation string (docstring) for your python scripts describing what the objective of the python scripts\n",
    "* Unit test cases can also be included in docstring\n",
    "* Triple-quoted documentation are preferred over # comments"
   ],
   "cell_type": "markdown",
   "metadata": {}
  },
  {
   "cell_type": "code",
   "execution_count": 1,
   "metadata": {},
   "outputs": [],
   "source": [
    "# this is the preferred method of type hinting rather than using #\n",
    "number: float = 155 / 22"
   ]
  },
  {
   "cell_type": "code",
   "execution_count": 3,
   "metadata": {},
   "outputs": [
    {
     "output_type": "stream",
     "name": "stdout",
     "text": [
      "('a', 'b')\n"
     ]
    }
   ],
   "source": [
    "print((\"a\"\n",
    ", \"b\"))"
   ]
  },
  {
   "source": [
    "# String Literal Concatenation"
   ],
   "cell_type": "markdown",
   "metadata": {}
  },
  {
   "cell_type": "code",
   "execution_count": 9,
   "metadata": {},
   "outputs": [
    {
     "output_type": "execute_result",
     "data": {
      "text/plain": [
       "'This is statement number 1 :  is -1000'"
      ]
     },
     "metadata": {},
     "execution_count": 9
    }
   ],
   "source": [
    "x = 1000\n",
    "message_text = (\n",
    "                f'This is statement number 1 : '\n",
    "                f'is {x*-1}'\n",
    ")\n",
    "message_text"
   ]
  },
  {
   "source": [
    "# Notes:\n",
    "* A logical line contain a complete statement and it can span across multiple lines through a technique called line joining\n",
    "* There is explicit line joining and implicit line joining\n",
    "* Explicit line joining is through the use of \\ and is generally frowned upon\n",
    "* Implicit line joining is through the use of () and is encouraged as it often fit semantically with the structure of the expression"
   ],
   "cell_type": "markdown",
   "metadata": {}
  },
  {
   "cell_type": "code",
   "execution_count": 11,
   "metadata": {},
   "outputs": [
    {
     "output_type": "stream",
     "name": "stdout",
     "text": [
      "this is meant to be a really really really long statement\n"
     ]
    }
   ],
   "source": [
    "print(\n",
    "    'this is meant to be a',\n",
    "    'really really really',\n",
    "    'long statement'\n",
    ")"
   ]
  },
  {
   "cell_type": "code",
   "execution_count": 16,
   "metadata": {},
   "outputs": [
    {
     "output_type": "stream",
     "name": "stdout",
     "text": [
      "this is meant to be a really really really long statement\n"
     ]
    }
   ],
   "source": [
    "print(\n",
    "'this is meant to be a \\\n",
    "really really really \\\n",
    "long statement'\n",
    ")"
   ]
  },
  {
   "cell_type": "code",
   "execution_count": 17,
   "metadata": {},
   "outputs": [],
   "source": [
    "from math import (\n",
    "    sin, cos, tan,\n",
    "    sqrt, log, frexp\n",
    ")"
   ]
  },
  {
   "source": [
    "# Sample Documentation Strings for Scripts"
   ],
   "cell_type": "markdown",
   "metadata": {}
  },
  {
   "source": [
    "\"\"\"\n",
    "\n",
    "Downloads the data from the said website, into csv files\n",
    "\n",
    "SYNOPSIS\n",
    "========\n",
    "::\n",
    "\n",
    "    python3 flows_data.py\n",
    "\n",
    "DESCRIPTION\n",
    "===========\n",
    "Download data from the said websites \n",
    "Transform the data into the flat format\n",
    "Push the transform data into csv files\n",
    "Drop the csv file into the location\n",
    "\n",
    "FILES\n",
    "=====\n",
    "Output files -> 'inflows_xxx.csv'\n",
    "\n",
    "EXAMPLES\n",
    "========\n",
    "\n",
    "\n",
    "EXIT STATUS\n",
    "===========\n",
    "\n",
    "\n",
    "AUTHOR\n",
    "======\n",
    "\n",
    "\n",
    "BUGS\n",
    "====\n",
    "\n",
    "REPORTING BUGS\n",
    "==============\n",
    "\n",
    "HISTORY\n",
    "=======\n",
    "\n",
    "\n",
    "COPYRIGHT\n",
    "=========\n",
    "\n",
    "\"\"\""
   ],
   "cell_type": "markdown",
   "metadata": {}
  },
  {
   "cell_type": "code",
   "execution_count": null,
   "metadata": {},
   "outputs": [],
   "source": []
  },
  {
   "cell_type": "code",
   "execution_count": null,
   "metadata": {},
   "outputs": [],
   "source": []
  },
  {
   "cell_type": "code",
   "execution_count": null,
   "metadata": {},
   "outputs": [],
   "source": []
  },
  {
   "cell_type": "code",
   "execution_count": null,
   "metadata": {},
   "outputs": [],
   "source": []
  },
  {
   "cell_type": "code",
   "execution_count": null,
   "metadata": {},
   "outputs": [],
   "source": []
  },
  {
   "cell_type": "code",
   "execution_count": null,
   "metadata": {},
   "outputs": [],
   "source": []
  },
  {
   "cell_type": "code",
   "execution_count": null,
   "metadata": {},
   "outputs": [],
   "source": []
  },
  {
   "cell_type": "code",
   "execution_count": null,
   "metadata": {},
   "outputs": [],
   "source": []
  },
  {
   "cell_type": "code",
   "execution_count": null,
   "metadata": {},
   "outputs": [],
   "source": []
  }
 ]
}